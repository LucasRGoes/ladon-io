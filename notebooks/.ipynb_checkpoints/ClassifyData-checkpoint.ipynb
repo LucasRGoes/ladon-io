{
 "cells": [
  {
   "cell_type": "markdown",
   "metadata": {},
   "source": [
    "# Classifying data from samples"
   ]
  },
  {
   "cell_type": "markdown",
   "metadata": {},
   "source": [
    "### Importing dependencies"
   ]
  },
  {
   "cell_type": "code",
   "execution_count": 2,
   "metadata": {},
   "outputs": [],
   "source": [
    "from sklearn.svm import SVC\n",
    "from sklearn.model_selection import train_test_split\n",
    "from sklearn.metrics import classification_report, confusion_matrix\n",
    "\n",
    "import pandas as pd\n",
    "import numpy as np  "
   ]
  },
  {
   "cell_type": "markdown",
   "metadata": {},
   "source": [
    "### Importing the dataset"
   ]
  },
  {
   "cell_type": "code",
   "execution_count": 16,
   "metadata": {},
   "outputs": [
    {
     "name": "stdout",
     "output_type": "stream",
     "text": [
      "Number of samples: 1075\n",
      "Number of A samples: 771 - 71.72093023255815%\n",
      "Number of B samples: 200 - 18.6046511627907%\n",
      "Number of C samples: 104 - 9.674418604651162%\n"
     ]
    },
    {
     "data": {
      "text/html": [
       "<div>\n",
       "<style scoped>\n",
       "    .dataframe tbody tr th:only-of-type {\n",
       "        vertical-align: middle;\n",
       "    }\n",
       "\n",
       "    .dataframe tbody tr th {\n",
       "        vertical-align: top;\n",
       "    }\n",
       "\n",
       "    .dataframe thead th {\n",
       "        text-align: right;\n",
       "    }\n",
       "</style>\n",
       "<table border=\"1\" class=\"dataframe\">\n",
       "  <thead>\n",
       "    <tr style=\"text-align: right;\">\n",
       "      <th></th>\n",
       "      <th>b_max</th>\n",
       "      <th>a_max</th>\n",
       "      <th>a_min</th>\n",
       "      <th>L_median</th>\n",
       "      <th>maturity</th>\n",
       "    </tr>\n",
       "  </thead>\n",
       "  <tbody>\n",
       "    <tr>\n",
       "      <th>2018-05-19 19:19:00</th>\n",
       "      <td>202</td>\n",
       "      <td>163</td>\n",
       "      <td>112</td>\n",
       "      <td>229.0</td>\n",
       "      <td>C</td>\n",
       "    </tr>\n",
       "    <tr>\n",
       "      <th>2018-05-19 19:49:08</th>\n",
       "      <td>203</td>\n",
       "      <td>163</td>\n",
       "      <td>112</td>\n",
       "      <td>229.0</td>\n",
       "      <td>C</td>\n",
       "    </tr>\n",
       "    <tr>\n",
       "      <th>2018-05-19 20:19:18</th>\n",
       "      <td>204</td>\n",
       "      <td>164</td>\n",
       "      <td>113</td>\n",
       "      <td>229.0</td>\n",
       "      <td>C</td>\n",
       "    </tr>\n",
       "    <tr>\n",
       "      <th>2018-05-19 20:49:28</th>\n",
       "      <td>206</td>\n",
       "      <td>165</td>\n",
       "      <td>113</td>\n",
       "      <td>229.0</td>\n",
       "      <td>C</td>\n",
       "    </tr>\n",
       "    <tr>\n",
       "      <th>2018-05-19 21:19:38</th>\n",
       "      <td>205</td>\n",
       "      <td>163</td>\n",
       "      <td>112</td>\n",
       "      <td>229.0</td>\n",
       "      <td>C</td>\n",
       "    </tr>\n",
       "  </tbody>\n",
       "</table>\n",
       "</div>"
      ],
      "text/plain": [
       "                     b_max  a_max  a_min  L_median maturity\n",
       "2018-05-19 19:19:00    202    163    112     229.0        C\n",
       "2018-05-19 19:49:08    203    163    112     229.0        C\n",
       "2018-05-19 20:19:18    204    164    113     229.0        C\n",
       "2018-05-19 20:49:28    206    165    113     229.0        C\n",
       "2018-05-19 21:19:38    205    163    112     229.0        C"
      ]
     },
     "execution_count": 16,
     "metadata": {},
     "output_type": "execute_result"
    }
   ],
   "source": [
    "samples = pd.read_csv('./samples_data.csv', sep=\",\", index_col=0)\n",
    "\n",
    "qttySamples = samples.shape[0]\n",
    "qttyA = samples.loc[samples['maturity'] == 'A'].shape[0]\n",
    "qttyB = samples.loc[samples['maturity'] == 'B'].shape[0]\n",
    "qttyC = samples.loc[samples['maturity'] == 'C'].shape[0]\n",
    "\n",
    "print('Number of samples: {0}'.format(qttySamples))\n",
    "print('Number of A samples: {0} - {1}%'.format(qttyA, 100 * qttyA / qttySamples))\n",
    "print('Number of B samples: {0} - {1}%'.format(qttyB, 100 * qttyB / qttySamples))\n",
    "print('Number of C samples: {0} - {1}%'.format(qttyC, 100 * qttyC / qttySamples))\n",
    "\n",
    "samples.head()"
   ]
  },
  {
   "cell_type": "markdown",
   "metadata": {},
   "source": [
    "### Preparing dataset"
   ]
  },
  {
   "cell_type": "code",
   "execution_count": 11,
   "metadata": {},
   "outputs": [],
   "source": [
    "x = samples.drop('maturity', axis=1)  # Attributes\n",
    "y = samples['maturity']               # Labels\n",
    "\n",
    "X_train, X_test, y_train, y_test = train_test_split(x, y, test_size = 0.20)  "
   ]
  },
  {
   "cell_type": "markdown",
   "metadata": {},
   "source": [
    "### Preparing classifier"
   ]
  },
  {
   "cell_type": "code",
   "execution_count": 17,
   "metadata": {},
   "outputs": [
    {
     "data": {
      "text/plain": [
       "SVC(C=1.0, cache_size=200, class_weight=None, coef0=0.0,\n",
       "  decision_function_shape='ovr', degree=3, gamma='auto', kernel='linear',\n",
       "  max_iter=-1, probability=False, random_state=None, shrinking=True,\n",
       "  tol=0.001, verbose=False)"
      ]
     },
     "execution_count": 17,
     "metadata": {},
     "output_type": "execute_result"
    }
   ],
   "source": [
    "svclassifier = SVC(kernel='linear')  \n",
    "svclassifier.fit(X_train, y_train)"
   ]
  },
  {
   "cell_type": "markdown",
   "metadata": {},
   "source": [
    "### Classifying and verifying results"
   ]
  },
  {
   "cell_type": "code",
   "execution_count": 20,
   "metadata": {},
   "outputs": [
    {
     "name": "stdout",
     "output_type": "stream",
     "text": [
      "[[152   0   0]\n",
      " [  7  37   0]\n",
      " [  0   1  18]]\n",
      "             precision    recall  f1-score   support\n",
      "\n",
      "          A       0.96      1.00      0.98       152\n",
      "          B       0.97      0.84      0.90        44\n",
      "          C       1.00      0.95      0.97        19\n",
      "\n",
      "avg / total       0.96      0.96      0.96       215\n",
      "\n"
     ]
    }
   ],
   "source": [
    "y_pred = svclassifier.predict(X_test)\n",
    "\n",
    "print(confusion_matrix(y_test,y_pred))  \n",
    "print(classification_report(y_test,y_pred))"
   ]
  }
 ],
 "metadata": {
  "kernelspec": {
   "display_name": "Python 3",
   "language": "python",
   "name": "python3"
  },
  "language_info": {
   "codemirror_mode": {
    "name": "ipython",
    "version": 3
   },
   "file_extension": ".py",
   "mimetype": "text/x-python",
   "name": "python",
   "nbconvert_exporter": "python",
   "pygments_lexer": "ipython3",
   "version": "3.5.5"
  }
 },
 "nbformat": 4,
 "nbformat_minor": 2
}
